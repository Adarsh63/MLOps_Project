{
 "cells": [
  {
   "cell_type": "code",
   "execution_count": 9,
   "id": "1bd7ddbc",
   "metadata": {},
   "outputs": [
    {
     "data": {
      "text/plain": [
       "'g:\\\\MLOps_Project\\\\MLOps_Project\\\\research'"
      ]
     },
     "execution_count": 9,
     "metadata": {},
     "output_type": "execute_result"
    }
   ],
   "source": [
    "import os\n",
    "%pwd"
   ]
  },
  {
   "cell_type": "code",
   "execution_count": 10,
   "id": "5673bf44",
   "metadata": {},
   "outputs": [],
   "source": [
    "os.chdir(\"../\")"
   ]
  },
  {
   "cell_type": "code",
   "execution_count": 11,
   "id": "ce54a08f",
   "metadata": {},
   "outputs": [
    {
     "data": {
      "text/plain": [
       "'g:\\\\MLOps_Project\\\\MLOps_Project'"
      ]
     },
     "execution_count": 11,
     "metadata": {},
     "output_type": "execute_result"
    }
   ],
   "source": [
    "%pwd"
   ]
  },
  {
   "cell_type": "code",
   "execution_count": 12,
   "id": "50ffbd3d",
   "metadata": {},
   "outputs": [
    {
     "name": "stdout",
     "output_type": "stream",
     "text": [
      "[2025-09-07 13:11:54,735: INFO: _client: HTTP Request: GET https://dagshub.com/api/v1/user \"HTTP/1.1 200 OK\"]\n"
     ]
    },
    {
     "data": {
      "text/html": [
       "<pre style=\"white-space:pre;overflow-x:auto;line-height:normal;font-family:Menlo,'DejaVu Sans Mono',consolas,'Courier New',monospace\">Accessing as Adarsh63\n",
       "</pre>\n"
      ],
      "text/plain": [
       "Accessing as Adarsh63\n"
      ]
     },
     "metadata": {},
     "output_type": "display_data"
    },
    {
     "name": "stdout",
     "output_type": "stream",
     "text": [
      "[2025-09-07 13:11:54,763: INFO: helpers: Accessing as Adarsh63]\n",
      "[2025-09-07 13:11:55,324: INFO: _client: HTTP Request: GET https://dagshub.com/api/v1/repos/Adarsh63/MLOps_Project \"HTTP/1.1 200 OK\"]\n",
      "[2025-09-07 13:11:55,839: INFO: _client: HTTP Request: GET https://dagshub.com/api/v1/user \"HTTP/1.1 200 OK\"]\n"
     ]
    },
    {
     "data": {
      "text/html": [
       "<pre style=\"white-space:pre;overflow-x:auto;line-height:normal;font-family:Menlo,'DejaVu Sans Mono',consolas,'Courier New',monospace\">Initialized MLflow to track repo <span style=\"color: #008000; text-decoration-color: #008000\">\"Adarsh63/MLOps_Project\"</span>\n",
       "</pre>\n"
      ],
      "text/plain": [
       "Initialized MLflow to track repo \u001b[32m\"Adarsh63/MLOps_Project\"\u001b[0m\n"
      ]
     },
     "metadata": {},
     "output_type": "display_data"
    },
    {
     "name": "stdout",
     "output_type": "stream",
     "text": [
      "[2025-09-07 13:11:55,846: INFO: helpers: Initialized MLflow to track repo \"Adarsh63/MLOps_Project\"]\n"
     ]
    },
    {
     "data": {
      "text/html": [
       "<pre style=\"white-space:pre;overflow-x:auto;line-height:normal;font-family:Menlo,'DejaVu Sans Mono',consolas,'Courier New',monospace\">Repository Adarsh63/MLOps_Project initialized!\n",
       "</pre>\n"
      ],
      "text/plain": [
       "Repository Adarsh63/MLOps_Project initialized!\n"
      ]
     },
     "metadata": {},
     "output_type": "display_data"
    },
    {
     "name": "stdout",
     "output_type": "stream",
     "text": [
      "[2025-09-07 13:11:55,857: INFO: helpers: Repository Adarsh63/MLOps_Project initialized!]\n",
      "🏃 View run unique-crab-205 at: https://dagshub.com/Adarsh63/MLOps_Project.mlflow/#/experiments/0/runs/28eaa662469c46e69adda4360a0c6017\n",
      "🧪 View experiment at: https://dagshub.com/Adarsh63/MLOps_Project.mlflow/#/experiments/0\n"
     ]
    }
   ],
   "source": [
    "import dagshub\n",
    "dagshub.init(repo_owner='Adarsh63', repo_name='MLOps_Project', mlflow=True)\n",
    "\n",
    "import mlflow\n",
    "with mlflow.start_run():\n",
    "  mlflow.log_param('parameter name', 'value')\n",
    "  mlflow.log_metric('metric name', 1)"
   ]
  },
  {
   "cell_type": "code",
   "execution_count": null,
   "id": "609da57a",
   "metadata": {},
   "outputs": [],
   "source": [
    "os.environ[\"MLFLOW_TRACKING_URI\"]=\"https://dagshub.com/Adarsh63/MLOps_Project.mlflow\"\n",
    "os.environ[\"MLFLOW_TRACKING_USERNAME\"]=\"Adarsh63\"\n",
    "os.environ[\"MLFLOW_TRACKING_PASSWORD\"]=\"b82416e02e08e727dd58201b443b8b9d051ec776\""
   ]
  },
  {
   "cell_type": "code",
   "execution_count": 2,
   "id": "44dc4a69",
   "metadata": {},
   "outputs": [
    {
     "name": "stdout",
     "output_type": "stream",
     "text": [
      "Requirement already satisfied: mlflow==2.22.2 in c:\\users\\adarsh\\anaconda3\\lib\\site-packages (2.22.2)\n",
      "Requirement already satisfied: Jinja2<4,>=3.0 in c:\\users\\adarsh\\anaconda3\\lib\\site-packages (from mlflow==2.22.2) (3.1.6)\n",
      "Requirement already satisfied: alembic!=1.10.0,<2 in c:\\users\\adarsh\\anaconda3\\lib\\site-packages (from mlflow==2.22.2) (1.16.5)\n",
      "Requirement already satisfied: mlflow-skinny==2.22.2 in c:\\users\\adarsh\\anaconda3\\lib\\site-packages (from mlflow==2.22.2) (2.22.2)\n",
      "Requirement already satisfied: scipy<2 in c:\\users\\adarsh\\anaconda3\\lib\\site-packages (from mlflow==2.22.2) (1.13.1)\n",
      "Requirement already satisfied: matplotlib<4 in c:\\users\\adarsh\\anaconda3\\lib\\site-packages (from mlflow==2.22.2) (3.9.0)\n",
      "Requirement already satisfied: numpy<3 in c:\\users\\adarsh\\anaconda3\\lib\\site-packages (from mlflow==2.22.2) (1.26.4)\n",
      "Requirement already satisfied: waitress<4 in c:\\users\\adarsh\\anaconda3\\lib\\site-packages (from mlflow==2.22.2) (3.0.2)\n",
      "Requirement already satisfied: sqlalchemy<3,>=1.4.0 in c:\\users\\adarsh\\anaconda3\\lib\\site-packages (from mlflow==2.22.2) (1.4.32)\n",
      "Requirement already satisfied: scikit-learn<2 in c:\\users\\adarsh\\anaconda3\\lib\\site-packages (from mlflow==2.22.2) (1.0.2)\n",
      "Requirement already satisfied: docker<8,>=4.0.0 in c:\\users\\adarsh\\anaconda3\\lib\\site-packages (from mlflow==2.22.2) (7.1.0)\n",
      "Requirement already satisfied: graphene<4 in c:\\users\\adarsh\\anaconda3\\lib\\site-packages (from mlflow==2.22.2) (3.4.3)\n",
      "Requirement already satisfied: markdown<4,>=3.3 in c:\\users\\adarsh\\anaconda3\\lib\\site-packages (from mlflow==2.22.2) (3.3.4)\n",
      "Requirement already satisfied: Flask<4 in c:\\users\\adarsh\\anaconda3\\lib\\site-packages (from mlflow==2.22.2) (1.1.2)\n",
      "Requirement already satisfied: pyarrow<20,>=4.0.0 in c:\\users\\adarsh\\anaconda3\\lib\\site-packages (from mlflow==2.22.2) (19.0.1)\n",
      "Requirement already satisfied: pandas!=2.3.0,<3 in c:\\users\\adarsh\\anaconda3\\lib\\site-packages (from mlflow==2.22.2) (2.2.2)\n",
      "Requirement already satisfied: fastapi<1 in c:\\users\\adarsh\\anaconda3\\lib\\site-packages (from mlflow-skinny==2.22.2->mlflow==2.22.2) (0.116.1)\n",
      "Requirement already satisfied: cloudpickle<4 in c:\\users\\adarsh\\anaconda3\\lib\\site-packages (from mlflow-skinny==2.22.2->mlflow==2.22.2) (2.0.0)\n",
      "Requirement already satisfied: protobuf<7,>=3.12.0 in c:\\users\\adarsh\\anaconda3\\lib\\site-packages (from mlflow-skinny==2.22.2->mlflow==2.22.2) (3.19.1)\n",
      "Requirement already satisfied: databricks-sdk<1,>=0.20.0 in c:\\users\\adarsh\\anaconda3\\lib\\site-packages (from mlflow-skinny==2.22.2->mlflow==2.22.2) (0.65.0)\n",
      "Requirement already satisfied: gitpython<4,>=3.1.9 in c:\\users\\adarsh\\anaconda3\\lib\\site-packages (from mlflow-skinny==2.22.2->mlflow==2.22.2) (3.1.45)\n",
      "Requirement already satisfied: packaging<25 in c:\\users\\adarsh\\anaconda3\\lib\\site-packages (from mlflow-skinny==2.22.2->mlflow==2.22.2) (23.2)\n",
      "Requirement already satisfied: opentelemetry-api<3,>=1.9.0 in c:\\users\\adarsh\\anaconda3\\lib\\site-packages (from mlflow-skinny==2.22.2->mlflow==2.22.2) (1.36.0)\n",
      "Requirement already satisfied: pyyaml<7,>=5.1 in c:\\users\\adarsh\\anaconda3\\lib\\site-packages (from mlflow-skinny==2.22.2->mlflow==2.22.2) (6.0)\n",
      "Requirement already satisfied: click<9,>=7.0 in c:\\users\\adarsh\\anaconda3\\lib\\site-packages (from mlflow-skinny==2.22.2->mlflow==2.22.2) (8.0.4)\n",
      "Requirement already satisfied: importlib_metadata!=4.7.0,<9,>=3.7.0 in c:\\users\\adarsh\\anaconda3\\lib\\site-packages (from mlflow-skinny==2.22.2->mlflow==2.22.2) (8.7.0)\n",
      "Requirement already satisfied: requests<3,>=2.17.3 in c:\\users\\adarsh\\anaconda3\\lib\\site-packages (from mlflow-skinny==2.22.2->mlflow==2.22.2) (2.32.5)\n",
      "Requirement already satisfied: uvicorn<1 in c:\\users\\adarsh\\anaconda3\\lib\\site-packages (from mlflow-skinny==2.22.2->mlflow==2.22.2) (0.35.0)\n",
      "Requirement already satisfied: sqlparse<1,>=0.4.0 in c:\\users\\adarsh\\anaconda3\\lib\\site-packages (from mlflow-skinny==2.22.2->mlflow==2.22.2) (0.5.3)\n",
      "Requirement already satisfied: typing-extensions<5,>=4.0.0 in c:\\users\\adarsh\\anaconda3\\lib\\site-packages (from mlflow-skinny==2.22.2->mlflow==2.22.2) (4.12.2)\n",
      "Requirement already satisfied: cachetools<6,>=5.0.0 in c:\\users\\adarsh\\anaconda3\\lib\\site-packages (from mlflow-skinny==2.22.2->mlflow==2.22.2) (5.5.2)\n",
      "Requirement already satisfied: pydantic<3,>=1.10.8 in c:\\users\\adarsh\\anaconda3\\lib\\site-packages (from mlflow-skinny==2.22.2->mlflow==2.22.2) (2.9.2)\n",
      "Requirement already satisfied: opentelemetry-sdk<3,>=1.9.0 in c:\\users\\adarsh\\anaconda3\\lib\\site-packages (from mlflow-skinny==2.22.2->mlflow==2.22.2) (1.36.0)\n",
      "Requirement already satisfied: Mako in c:\\users\\adarsh\\anaconda3\\lib\\site-packages (from alembic!=1.10.0,<2->mlflow==2.22.2) (1.3.10)\n",
      "Requirement already satisfied: tomli in c:\\users\\adarsh\\anaconda3\\lib\\site-packages (from alembic!=1.10.0,<2->mlflow==2.22.2) (1.2.2)\n",
      "Requirement already satisfied: colorama in c:\\users\\adarsh\\anaconda3\\lib\\site-packages (from click<9,>=7.0->mlflow-skinny==2.22.2->mlflow==2.22.2) (0.4.4)\n",
      "Requirement already satisfied: google-auth~=2.0 in c:\\users\\adarsh\\anaconda3\\lib\\site-packages (from databricks-sdk<1,>=0.20.0->mlflow-skinny==2.22.2->mlflow==2.22.2) (2.40.3)Note: you may need to restart the kernel to use updated packages.\n",
      "\n",
      "Requirement already satisfied: urllib3>=1.26.0 in c:\\users\\adarsh\\anaconda3\\lib\\site-packages (from docker<8,>=4.0.0->mlflow==2.22.2) (1.26.9)\n",
      "Requirement already satisfied: pywin32>=304 in c:\\users\\adarsh\\anaconda3\\lib\\site-packages (from docker<8,>=4.0.0->mlflow==2.22.2) (311)\n",
      "Requirement already satisfied: starlette<0.48.0,>=0.40.0 in c:\\users\\adarsh\\anaconda3\\lib\\site-packages (from fastapi<1->mlflow-skinny==2.22.2->mlflow==2.22.2) (0.47.3)\n",
      "Requirement already satisfied: Werkzeug>=0.15 in c:\\users\\adarsh\\anaconda3\\lib\\site-packages (from Flask<4->mlflow==2.22.2) (2.0.3)\n",
      "Requirement already satisfied: itsdangerous>=0.24 in c:\\users\\adarsh\\anaconda3\\lib\\site-packages (from Flask<4->mlflow==2.22.2) (2.0.1)\n",
      "Requirement already satisfied: gitdb<5,>=4.0.1 in c:\\users\\adarsh\\anaconda3\\lib\\site-packages (from gitpython<4,>=3.1.9->mlflow-skinny==2.22.2->mlflow==2.22.2) (4.0.12)\n",
      "Requirement already satisfied: smmap<6,>=3.0.1 in c:\\users\\adarsh\\anaconda3\\lib\\site-packages (from gitdb<5,>=4.0.1->gitpython<4,>=3.1.9->mlflow-skinny==2.22.2->mlflow==2.22.2) (5.0.2)\n",
      "Requirement already satisfied: pyasn1-modules>=0.2.1 in c:\\users\\adarsh\\anaconda3\\lib\\site-packages (from google-auth~=2.0->databricks-sdk<1,>=0.20.0->mlflow-skinny==2.22.2->mlflow==2.22.2) (0.2.8)\n",
      "Requirement already satisfied: rsa<5,>=3.1.4 in c:\\users\\adarsh\\anaconda3\\lib\\site-packages (from google-auth~=2.0->databricks-sdk<1,>=0.20.0->mlflow-skinny==2.22.2->mlflow==2.22.2) (4.7.2)\n",
      "Requirement already satisfied: graphql-relay<3.3,>=3.1 in c:\\users\\adarsh\\anaconda3\\lib\\site-packages (from graphene<4->mlflow==2.22.2) (3.2.0)\n",
      "Requirement already satisfied: graphql-core<3.3,>=3.1 in c:\\users\\adarsh\\anaconda3\\lib\\site-packages (from graphene<4->mlflow==2.22.2) (3.2.6)\n",
      "Requirement already satisfied: python-dateutil<3,>=2.7.0 in c:\\users\\adarsh\\anaconda3\\lib\\site-packages (from graphene<4->mlflow==2.22.2) (2.8.2)\n",
      "Requirement already satisfied: zipp>=3.20 in c:\\users\\adarsh\\anaconda3\\lib\\site-packages (from importlib_metadata!=4.7.0,<9,>=3.7.0->mlflow-skinny==2.22.2->mlflow==2.22.2) (3.23.0)\n",
      "Requirement already satisfied: MarkupSafe>=2.0 in c:\\users\\adarsh\\anaconda3\\lib\\site-packages (from Jinja2<4,>=3.0->mlflow==2.22.2) (2.0.1)\n",
      "Requirement already satisfied: cycler>=0.10 in c:\\users\\adarsh\\anaconda3\\lib\\site-packages (from matplotlib<4->mlflow==2.22.2) (0.11.0)\n",
      "Requirement already satisfied: importlib-resources>=3.2.0 in c:\\users\\adarsh\\anaconda3\\lib\\site-packages (from matplotlib<4->mlflow==2.22.2) (6.4.0)\n",
      "Requirement already satisfied: kiwisolver>=1.3.1 in c:\\users\\adarsh\\anaconda3\\lib\\site-packages (from matplotlib<4->mlflow==2.22.2) (1.3.2)\n",
      "Requirement already satisfied: fonttools>=4.22.0 in c:\\users\\adarsh\\anaconda3\\lib\\site-packages (from matplotlib<4->mlflow==2.22.2) (4.25.0)\n",
      "Requirement already satisfied: pyparsing>=2.3.1 in c:\\users\\adarsh\\anaconda3\\lib\\site-packages (from matplotlib<4->mlflow==2.22.2) (3.0.4)\n",
      "Requirement already satisfied: contourpy>=1.0.1 in c:\\users\\adarsh\\anaconda3\\lib\\site-packages (from matplotlib<4->mlflow==2.22.2) (1.2.1)\n",
      "Requirement already satisfied: pillow>=8 in c:\\users\\adarsh\\anaconda3\\lib\\site-packages (from matplotlib<4->mlflow==2.22.2) (9.0.1)\n",
      "Requirement already satisfied: opentelemetry-semantic-conventions==0.57b0 in c:\\users\\adarsh\\anaconda3\\lib\\site-packages (from opentelemetry-sdk<3,>=1.9.0->mlflow-skinny==2.22.2->mlflow==2.22.2) (0.57b0)\n",
      "Requirement already satisfied: pytz>=2020.1 in c:\\users\\adarsh\\anaconda3\\lib\\site-packages (from pandas!=2.3.0,<3->mlflow==2.22.2) (2021.3)\n",
      "Requirement already satisfied: tzdata>=2022.7 in c:\\users\\adarsh\\anaconda3\\lib\\site-packages (from pandas!=2.3.0,<3->mlflow==2.22.2) (2024.1)\n",
      "Requirement already satisfied: pyasn1<0.5.0,>=0.4.6 in c:\\users\\adarsh\\anaconda3\\lib\\site-packages (from pyasn1-modules>=0.2.1->google-auth~=2.0->databricks-sdk<1,>=0.20.0->mlflow-skinny==2.22.2->mlflow==2.22.2) (0.4.8)\n",
      "Requirement already satisfied: annotated-types>=0.6.0 in c:\\users\\adarsh\\anaconda3\\lib\\site-packages (from pydantic<3,>=1.10.8->mlflow-skinny==2.22.2->mlflow==2.22.2) (0.7.0)\n",
      "Requirement already satisfied: pydantic-core==2.23.4 in c:\\users\\adarsh\\anaconda3\\lib\\site-packages (from pydantic<3,>=1.10.8->mlflow-skinny==2.22.2->mlflow==2.22.2) (2.23.4)\n",
      "Requirement already satisfied: six>=1.5 in c:\\users\\adarsh\\anaconda3\\lib\\site-packages (from python-dateutil<3,>=2.7.0->graphene<4->mlflow==2.22.2) (1.16.0)\n",
      "Requirement already satisfied: charset_normalizer<4,>=2 in c:\\users\\adarsh\\anaconda3\\lib\\site-packages (from requests<3,>=2.17.3->mlflow-skinny==2.22.2->mlflow==2.22.2) (2.0.4)\n",
      "Requirement already satisfied: idna<4,>=2.5 in c:\\users\\adarsh\\anaconda3\\lib\\site-packages (from requests<3,>=2.17.3->mlflow-skinny==2.22.2->mlflow==2.22.2) (3.3)\n",
      "Requirement already satisfied: certifi>=2017.4.17 in c:\\users\\adarsh\\anaconda3\\lib\\site-packages (from requests<3,>=2.17.3->mlflow-skinny==2.22.2->mlflow==2.22.2) (2021.10.8)\n",
      "Requirement already satisfied: threadpoolctl>=2.0.0 in c:\\users\\adarsh\\anaconda3\\lib\\site-packages (from scikit-learn<2->mlflow==2.22.2) (2.2.0)\n",
      "Requirement already satisfied: joblib>=0.11 in c:\\users\\adarsh\\anaconda3\\lib\\site-packages (from scikit-learn<2->mlflow==2.22.2) (1.1.0)\n",
      "Requirement already satisfied: greenlet!=0.4.17 in c:\\users\\adarsh\\anaconda3\\lib\\site-packages (from sqlalchemy<3,>=1.4.0->mlflow==2.22.2) (1.1.1)\n",
      "Requirement already satisfied: anyio<5,>=3.6.2 in c:\\users\\adarsh\\anaconda3\\lib\\site-packages (from starlette<0.48.0,>=0.40.0->fastapi<1->mlflow-skinny==2.22.2->mlflow==2.22.2) (4.10.0)\n",
      "Requirement already satisfied: exceptiongroup>=1.0.2 in c:\\users\\adarsh\\anaconda3\\lib\\site-packages (from anyio<5,>=3.6.2->starlette<0.48.0,>=0.40.0->fastapi<1->mlflow-skinny==2.22.2->mlflow==2.22.2) (1.3.0)\n",
      "Requirement already satisfied: sniffio>=1.1 in c:\\users\\adarsh\\anaconda3\\lib\\site-packages (from anyio<5,>=3.6.2->starlette<0.48.0,>=0.40.0->fastapi<1->mlflow-skinny==2.22.2->mlflow==2.22.2) (1.2.0)\n",
      "Requirement already satisfied: h11>=0.8 in c:\\users\\adarsh\\anaconda3\\lib\\site-packages (from uvicorn<1->mlflow-skinny==2.22.2->mlflow==2.22.2) (0.14.0)\n"
     ]
    }
   ],
   "source": [
    "pip install mlflow==2.22.2"
   ]
  },
  {
   "cell_type": "code",
   "execution_count": 20,
   "id": "c6f1ff6d",
   "metadata": {},
   "outputs": [],
   "source": [
    "from dataclasses import dataclass\n",
    "from pathlib import Path\n",
    "\n",
    "\n",
    "@dataclass(frozen=True)\n",
    "class ModelEvaluationConfig:\n",
    "    root_dir: Path\n",
    "    test_data_path: Path\n",
    "    model_path: Path\n",
    "    all_params: dict\n",
    "    metric_file_name: Path\n",
    "    target_column: str\n",
    "    mlflow_uri: str\n"
   ]
  },
  {
   "cell_type": "code",
   "execution_count": 21,
   "id": "3494c62d",
   "metadata": {},
   "outputs": [],
   "source": [
    "from mlProject.constants import *\n",
    "from mlProject.utils.common import read_yaml, create_directories, save_json"
   ]
  },
  {
   "cell_type": "code",
   "execution_count": 22,
   "id": "81bbc3b0",
   "metadata": {},
   "outputs": [],
   "source": [
    "class ConfigurationManager:\n",
    "    def __init__(\n",
    "        self,\n",
    "        config_filepath = CONFIG_FILE_PATH,\n",
    "        params_filepath = PARAMS_FILE_PATH,\n",
    "        schema_filepath = SCHEMA_FILE_PATH):\n",
    "\n",
    "        self.config = read_yaml(config_filepath)\n",
    "        self.params = read_yaml(params_filepath)\n",
    "        self.schema = read_yaml(schema_filepath)\n",
    "\n",
    "        create_directories([self.config.artifacts_root])\n",
    "\n",
    "    \n",
    "    def get_model_evaluation_config(self) -> ModelEvaluationConfig:\n",
    "        config = self.config.model_evaluation\n",
    "        params = self.params.ElasticNet\n",
    "        schema =  self.schema.TARGET_COLUMN\n",
    "\n",
    "        create_directories([config.root_dir])\n",
    "\n",
    "        model_evaluation_config = ModelEvaluationConfig(\n",
    "            root_dir=config.root_dir,\n",
    "            test_data_path=config.test_data_path,\n",
    "            model_path = config.model_path,\n",
    "            all_params=params,\n",
    "            metric_file_name = config.metric_file_name,\n",
    "            target_column = schema.Salary,\n",
    "            mlflow_uri=\"https://dagshub.com/Adarsh63/MLOps_Project.mlflow\",\n",
    "           \n",
    "        )\n",
    "\n",
    "        return model_evaluation_config\n"
   ]
  },
  {
   "cell_type": "code",
   "execution_count": 23,
   "id": "2c685a14",
   "metadata": {},
   "outputs": [],
   "source": [
    "import os\n",
    "import pandas as pd\n",
    "from sklearn.metrics import mean_squared_error, mean_absolute_error, r2_score\n",
    "from urllib.parse import urlparse\n",
    "import mlflow\n",
    "import mlflow.sklearn\n",
    "import numpy as np\n",
    "import joblib"
   ]
  },
  {
   "cell_type": "code",
   "execution_count": 24,
   "id": "405b1ed4",
   "metadata": {},
   "outputs": [],
   "source": [
    "class ModelEvaluation:\n",
    "    def __init__(self, config: ModelEvaluationConfig):\n",
    "        self.config = config\n",
    "\n",
    "    \n",
    "    def eval_metrics(self,actual, pred):\n",
    "        rmse = np.sqrt(mean_squared_error(actual, pred))\n",
    "        mae = mean_absolute_error(actual, pred)\n",
    "        r2 = r2_score(actual, pred)\n",
    "        return rmse, mae, r2\n",
    "    \n",
    "\n",
    "\n",
    "    def log_into_mlflow(self):\n",
    "\n",
    "        test_data = pd.read_csv(self.config.test_data_path)\n",
    "        model = joblib.load(self.config.model_path)\n",
    "\n",
    "        test_x = test_data.drop([self.config.target_column], axis=1)\n",
    "        test_y = test_data[[self.config.target_column]]\n",
    "\n",
    "\n",
    "        mlflow.set_registry_uri(self.config.mlflow_uri)\n",
    "        tracking_url_type_store = urlparse(mlflow.get_tracking_uri()).scheme\n",
    "\n",
    "\n",
    "        with mlflow.start_run():\n",
    "\n",
    "            predicted_qualities = model.predict(test_x)\n",
    "\n",
    "            (rmse, mae, r2) = self.eval_metrics(test_y, predicted_qualities)\n",
    "            \n",
    "            # Saving metrics as local\n",
    "            scores = {\"rmse\": rmse, \"mae\": mae, \"r2\": r2}\n",
    "            save_json(path=Path(self.config.metric_file_name), data=scores)\n",
    "\n",
    "            mlflow.log_params(self.config.all_params)\n",
    "\n",
    "            mlflow.log_metric(\"rmse\", rmse)\n",
    "            mlflow.log_metric(\"r2\", r2)\n",
    "            mlflow.log_metric(\"mae\", mae)\n",
    "\n",
    "\n",
    "            # Model registry does not work with file store\n",
    "            if tracking_url_type_store != \"file\":\n",
    "\n",
    "                # Register the model\n",
    "                # There are other ways to use the Model Registry, which depends on the use case,\n",
    "                # please refer to the doc for more information:\n",
    "                # https://mlflow.org/docs/latest/model-registry.html#api-workflow\n",
    "                mlflow.sklearn.log_model(model, \"model\", registered_model_name=\"ElasticnetModel\")\n",
    "            else:\n",
    "                mlflow.sklearn.log_model(model, \"model\")\n",
    "\n",
    "    \n"
   ]
  },
  {
   "cell_type": "code",
   "execution_count": 25,
   "id": "10b8e3e8",
   "metadata": {},
   "outputs": [
    {
     "name": "stdout",
     "output_type": "stream",
     "text": [
      "[2025-09-07 13:17:11,445: INFO: common: yaml file: config\\config.yaml loaded successfully]\n",
      "[2025-09-07 13:17:11,451: INFO: common: yaml file: params.yaml loaded successfully]\n",
      "[2025-09-07 13:17:11,458: INFO: common: yaml file: schema.yaml loaded successfully]\n",
      "[2025-09-07 13:17:11,461: INFO: common: created directory at: artifacts]\n",
      "[2025-09-07 13:17:11,466: INFO: common: created directory at: artifacts/model_evaluation]\n",
      "[2025-09-07 13:17:12,114: INFO: common: json file saved at: artifacts\\model_evaluation\\metrics.json]\n"
     ]
    },
    {
     "name": "stderr",
     "output_type": "stream",
     "text": [
      "2025/09/07 13:17:33 WARNING mlflow.models.model: Model logged without a signature and input example. Please set `input_example` parameter when logging the model to auto infer the model signature.\n",
      "Registered model 'ElasticnetModel' already exists. Creating a new version of this model...\n",
      "2025/09/07 13:17:39 INFO mlflow.store.model_registry.abstract_store: Waiting up to 300 seconds for model version to finish creation. Model name: ElasticnetModel, version 2\n",
      "Created version '2' of model 'ElasticnetModel'.\n"
     ]
    },
    {
     "name": "stdout",
     "output_type": "stream",
     "text": [
      "🏃 View run gentle-gnu-996 at: https://dagshub.com/Adarsh63/MLOps_Project.mlflow/#/experiments/0/runs/36865ff11f32447d941cebaa2a14334a\n",
      "🧪 View experiment at: https://dagshub.com/Adarsh63/MLOps_Project.mlflow/#/experiments/0\n"
     ]
    }
   ],
   "source": [
    "try:\n",
    "    config = ConfigurationManager()\n",
    "    model_evaluation_config = config.get_model_evaluation_config()\n",
    "    model_evaluation_config = ModelEvaluation(config=model_evaluation_config)\n",
    "    model_evaluation_config.log_into_mlflow()\n",
    "except Exception as e:\n",
    "    raise e"
   ]
  },
  {
   "cell_type": "code",
   "execution_count": null,
   "id": "1c1cc3d1",
   "metadata": {},
   "outputs": [],
   "source": []
  },
  {
   "cell_type": "code",
   "execution_count": null,
   "id": "d2c35ff4",
   "metadata": {},
   "outputs": [],
   "source": []
  }
 ],
 "metadata": {
  "kernelspec": {
   "display_name": "base",
   "language": "python",
   "name": "python3"
  },
  "language_info": {
   "codemirror_mode": {
    "name": "ipython",
    "version": 3
   },
   "file_extension": ".py",
   "mimetype": "text/x-python",
   "name": "python",
   "nbconvert_exporter": "python",
   "pygments_lexer": "ipython3",
   "version": "3.9.12"
  }
 },
 "nbformat": 4,
 "nbformat_minor": 5
}
